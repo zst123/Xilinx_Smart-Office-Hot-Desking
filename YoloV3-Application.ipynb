{
 "cells": [
  {
   "cell_type": "markdown",
   "metadata": {},
   "source": [
    "## Import the required modules\n"
   ]
  },
  {
   "cell_type": "code",
   "execution_count": 1,
   "metadata": {
    "scrolled": false
   },
   "outputs": [],
   "source": [
    "import PIL\n",
    "import PIL.Image\n",
    "import cv2\n",
    "import time\n",
    "import numpy as np\n",
    "\n",
    "import ipywidgets as widgets\n",
    "import threading\n",
    "import time\n",
    "\n",
    "import random\n",
    "import colorsys"
   ]
  },
  {
   "cell_type": "markdown",
   "metadata": {},
   "source": [
    "## Display webcam within notebook\n",
    "I wrote these helper functions to display the webcam feed from OpenCV directly within the Jupyter notebook. Some code has been adapted from [here](https://github.com/NicksonYap/Jupyter-Webcam).\n",
    "\n",
    "The first function `notebook_display_init` will display a new image in the output of the cell. It will return an ID which is passed to `notebook_display_update` to update that image with a new one subsequently."
   ]
  },
  {
   "cell_type": "code",
   "execution_count": 2,
   "metadata": {
    "scrolled": false
   },
   "outputs": [],
   "source": [
    "from io import BytesIO\n",
    "import IPython.display\n",
    "\n",
    "# Use 'jpeg' instead of 'png' (~5 times faster)\n",
    "\n",
    "def notebook_display_init(a, fmt='jpeg', _id=True):\n",
    "    f = BytesIO()\n",
    "    PIL.Image.fromarray(a).save(f, fmt)\n",
    "    obj = IPython.display.Image(data=f.getvalue())\n",
    "    return IPython.display.display(obj, display_id=_id)\n",
    "\n",
    "def notebook_display_update(a, fmt='jpeg', display_id=None):\n",
    "    f = BytesIO()\n",
    "    PIL.Image.fromarray(a).save(f, fmt)\n",
    "    obj = IPython.display.Image(data=f.getvalue())\n",
    "    if display_id:\n",
    "        display_id.update(obj)\n",
    "    else:\n",
    "        IPython.display.clear_output(wait=True)\n",
    "        return IPython.display.display(obj, display_id=True)\n"
   ]
  },
  {
   "cell_type": "markdown",
   "metadata": {},
   "source": [
    "Disable scrolling in IPython output for the whole image to show up nicely"
   ]
  },
  {
   "cell_type": "code",
   "execution_count": 3,
   "metadata": {
    "scrolled": false
   },
   "outputs": [
    {
     "data": {
      "application/javascript": [
       "IPython.OutputArea.prototype._should_scroll = function(lines) {\n",
       "    return false;\n",
       "}"
      ],
      "text/plain": [
       "<IPython.core.display.Javascript object>"
      ]
     },
     "metadata": {},
     "output_type": "display_data"
    }
   ],
   "source": [
    "%%javascript\n",
    "IPython.OutputArea.prototype._should_scroll = function(lines) {\n",
    "    return false;\n",
    "}"
   ]
  },
  {
   "cell_type": "markdown",
   "metadata": {},
   "source": [
    "## Prepare the overlay\n",
    "We will download the overlay onto the board. Then we will load the corresponding DPU model.\n",
    "\n",
    "I modified `dpu_conf.vh` in the sources and compiled my own overlay with B1600 and RAM_USAGE_HIGH."
   ]
  },
  {
   "cell_type": "code",
   "execution_count": 4,
   "metadata": {
    "scrolled": false
   },
   "outputs": [
    {
     "data": {
      "application/javascript": [
       "\n",
       "try {\n",
       "require(['notebook/js/codecell'], function(codecell) {\n",
       "  codecell.CodeCell.options_default.highlight_modes[\n",
       "      'magic_text/x-csrc'] = {'reg':[/^%%pybind11/]};\n",
       "  Jupyter.notebook.events.one('kernel_ready.Kernel', function(){\n",
       "      Jupyter.notebook.get_cells().map(function(cell){\n",
       "          if (cell.cell_type == 'code'){ cell.auto_highlight(); } }) ;\n",
       "  });\n",
       "});\n",
       "} catch (e) {};\n"
      ]
     },
     "metadata": {},
     "output_type": "display_data"
    },
    {
     "data": {
      "application/javascript": [
       "\n",
       "try {\n",
       "require(['notebook/js/codecell'], function(codecell) {\n",
       "  codecell.CodeCell.options_default.highlight_modes[\n",
       "      'magic_text/x-csrc'] = {'reg':[/^%%microblaze/]};\n",
       "  Jupyter.notebook.events.one('kernel_ready.Kernel', function(){\n",
       "      Jupyter.notebook.get_cells().map(function(cell){\n",
       "          if (cell.cell_type == 'code'){ cell.auto_highlight(); } }) ;\n",
       "  });\n",
       "});\n",
       "} catch (e) {};\n"
      ]
     },
     "metadata": {},
     "output_type": "display_data"
    },
    {
     "name": "stdout",
     "output_type": "stream",
     "text": [
      "Bitstream and model downloaded\n"
     ]
    }
   ],
   "source": [
    "from pynq_dpu import DpuOverlay\n",
    "from pynq_dpu.edge.dnndk.tf_yolov3_voc_py.tf_yolov3_voc import *\n",
    "\n",
    "# Self-compiled\n",
    "#overlay = DpuOverlay(\"./mymodel/dpu.bit\")\n",
    "#overlay.load_model(\"./mymodel/dpu_tf_yolov3.elf\")\n",
    "\n",
    "# Precompiled\n",
    "overlay = DpuOverlay(\"dpu.bit\")\n",
    "overlay.load_model(\"/home/xilinx/jupyter_notebooks/pynq-dpu/dpu_tf_yolov3.elf\")\n",
    "\n",
    "print(\"Bitstream and model downloaded\")"
   ]
  },
  {
   "cell_type": "markdown",
   "metadata": {},
   "source": [
    "## Constants\n",
    "\n",
    "Yolo V2 and V3 predict offsets from a predetermined set of boxes with \n",
    "particular height-width ratios; those predetermined set of boxes are the \n",
    "anchor boxes. We will use the predefined [anchors](https://github.com/Xilinx/Vitis-AI/blob/v1.1/mpsoc/vitis_ai_dnndk_samples/tf_yolov3_voc_py/model_data/yolo_anchors.txt)."
   ]
  },
  {
   "cell_type": "code",
   "execution_count": 5,
   "metadata": {},
   "outputs": [],
   "source": [
    "anchor_list = [10,13,16,30,33,23,30,61,62,45,59,119,116,90,156,198,373,326]\n",
    "anchor_float = [float(x) for x in anchor_list]\n",
    "anchors = np.array(anchor_float).reshape(-1, 2)"
   ]
  },
  {
   "cell_type": "markdown",
   "metadata": {},
   "source": [
    "We will use the `get_class()` function in `tf_yolov3_voc` module to\n",
    "get class names from predefined [class names](https://github.com/Xilinx/Vitis-AI/blob/v1.1/mpsoc/vitis_ai_dnndk_samples/tf_yolov3_voc_py/image/voc_classes.txt).\n",
    "\n",
    "Depending on the number of classes, we will define a unique color for each class."
   ]
  },
  {
   "cell_type": "code",
   "execution_count": 6,
   "metadata": {},
   "outputs": [],
   "source": [
    "classes_path = \"./pynq-dpu/img/voc_classes.txt\"\n",
    "class_names = get_class(classes_path)\n",
    "\n",
    "num_classes = len(class_names)\n",
    "hsv_tuples = [(1.0 * x / num_classes, 1., 1.) for x in range(num_classes)]\n",
    "colors = list(map(lambda x: colorsys.hsv_to_rgb(*x), hsv_tuples))\n",
    "colors = list(map(lambda x: \n",
    "                  (int(x[0] * 255), int(x[1] * 255), int(x[2] * 255)), \n",
    "                  colors))\n",
    "random.seed(0)\n",
    "random.shuffle(colors)\n",
    "random.seed(None)"
   ]
  },
  {
   "cell_type": "markdown",
   "metadata": {},
   "source": [
    "We can define some DPU-related parameters, such as DPU kernel name and\n",
    "input/output node names."
   ]
  },
  {
   "cell_type": "code",
   "execution_count": 7,
   "metadata": {},
   "outputs": [],
   "source": [
    "KERNEL_CONV=\"tf_yolov3\"\n",
    "CONV_INPUT_NODE=\"conv2d_1_convolution\"\n",
    "CONV_OUTPUT_NODE1=\"conv2d_59_convolution\"\n",
    "CONV_OUTPUT_NODE2=\"conv2d_67_convolution\"\n",
    "CONV_OUTPUT_NODE3=\"conv2d_75_convolution\""
   ]
  },
  {
   "cell_type": "markdown",
   "metadata": {},
   "source": [
    "## Helper functions\n",
    "\n",
    "#### Drawing bounding boxes\n",
    "We now define a custom function that draws the bounding boxes around the identified objects after we have the classification results.\n",
    "\n",
    "*Note: This is where I modified the function to filter for \"person\" class names. This means only \"person\" will be detected.*"
   ]
  },
  {
   "cell_type": "code",
   "execution_count": 8,
   "metadata": {},
   "outputs": [],
   "source": [
    "def draw_boxes(image, boxes, scores, classes):\n",
    "    for i, bbox in enumerate(boxes):\n",
    "        y1, x1, y2, x2 = bbox # [top, left, bottom, right] = bbox\n",
    "        \n",
    "        score, class_index = scores[i], classes[i]\n",
    "        class_name = class_names[class_index]\n",
    "        color = colors[class_index]\n",
    "        label = '{}: {:.4f}'.format(class_name, score) \n",
    "        \n",
    "        if class_name not in ['person']:\n",
    "            continue\n",
    "        \n",
    "        # Draw rectangle\n",
    "        box_thickness = 2\n",
    "        cv2.rectangle(image, (x1, y1), (x2, y2), color, box_thickness)\n",
    "        \n",
    "        # Draw text\n",
    "        text_thickness = 2\n",
    "        text_size = 0.5\n",
    "        cv2.putText(image, label, (x1, y1), cv2.FONT_HERSHEY_SIMPLEX, text_size, color, text_thickness, cv2.LINE_AA)\n",
    "\n",
    "    return image"
   ]
  },
  {
   "cell_type": "markdown",
   "metadata": {},
   "source": [
    "#### Predicting classes\n",
    "We need to define a function that evaluates the scores and makes predictions\n",
    "based on the provided class names."
   ]
  },
  {
   "cell_type": "code",
   "execution_count": null,
   "metadata": {},
   "outputs": [],
   "source": [
    "def evaluate(yolo_outputs, image_shape, class_names, anchors):\n",
    "    score_thresh = 0.1\n",
    "    anchor_mask = [[6, 7, 8], [3, 4, 5], [0, 1, 2]]\n",
    "    boxes = []\n",
    "    box_scores = []\n",
    "    input_shape = np.shape(yolo_outputs[0])[1 : 3]\n",
    "    input_shape = np.array(input_shape)*32\n",
    "\n",
    "    for i in range(len(yolo_outputs)):\n",
    "        _boxes, _box_scores = boxes_and_scores(\n",
    "            yolo_outputs[i], anchors[anchor_mask[i]], len(class_names), \n",
    "            input_shape, image_shape)\n",
    "        boxes.append(_boxes)\n",
    "        box_scores.append(_box_scores)\n",
    "    boxes = np.concatenate(boxes, axis = 0)\n",
    "    box_scores = np.concatenate(box_scores, axis = 0)\n",
    "\n",
    "    mask = box_scores >= score_thresh\n",
    "    boxes_ = []\n",
    "    scores_ = []\n",
    "    classes_ = []\n",
    "    for c in range(len(class_names)):\n",
    "        class_boxes_np = boxes[mask[:, c]]\n",
    "        class_box_scores_np = box_scores[:, c]\n",
    "        class_box_scores_np = class_box_scores_np[mask[:, c]]\n",
    "        nms_index_np = nms_boxes(class_boxes_np, class_box_scores_np) \n",
    "        class_boxes_np = class_boxes_np[nms_index_np]\n",
    "        class_box_scores_np = class_box_scores_np[nms_index_np]\n",
    "        classes_np = np.ones_like(class_box_scores_np, dtype = np.int32) * c\n",
    "        boxes_.append(class_boxes_np)\n",
    "        scores_.append(class_box_scores_np)\n",
    "        classes_.append(classes_np)\n",
    "    boxes_ = np.concatenate(boxes_, axis = 0)\n",
    "    scores_ = np.concatenate(scores_, axis = 0)\n",
    "    classes_ = np.concatenate(classes_, axis = 0)\n",
    "\n",
    "    return (boxes_, scores_, classes_)"
   ]
  },
  {
   "cell_type": "markdown",
   "metadata": {},
   "source": [
    "## Main webcam loop\n",
    "This cell of code will setup the DPU, webcam and then show the webcam stream continuously.\n",
    "\n",
    "**To stop the webcam stream, you must interrupt the kernel:**\n",
    "- From the menu bar, click on ***Kernel > Interrupt***"
   ]
  },
  {
   "cell_type": "code",
   "execution_count": null,
   "metadata": {
    "scrolled": true
   },
   "outputs": [
    {
     "name": "stdout",
     "output_type": "stream",
     "text": [
      "Creating DPU kernel\n",
      "Video: <VideoCapture 0x7f77fa21d0>\n"
     ]
    },
    {
     "data": {
      "image/jpeg": "[encoded data removed]",
      "text/plain": [
       "<IPython.core.display.Image object>"
      ]
     },
     "metadata": {},
     "output_type": "display_data"
    }
   ],
   "source": [
    "# We create DPU kernel and task.\n",
    "print(\"Creating DPU kernel\")\n",
    "n2cube.dpuOpen()\n",
    "kernel = n2cube.dpuLoadKernel(KERNEL_CONV)\n",
    "task = n2cube.dpuCreateTask(kernel, 0)\n",
    "\n",
    "# Find a valid camera device and open it\n",
    "for cam_index in range(10):\n",
    "    cam = cv2.VideoCapture(cam_index)\n",
    "    if (cam is not None) and cam.isOpened():\n",
    "        print(\"Video:\", cam)\n",
    "        break\n",
    "\n",
    "# Set resolution for the camera\n",
    "cam.set(cv2.CAP_PROP_FRAME_WIDTH, 1920)\n",
    "cam.set(cv2.CAP_PROP_FRAME_HEIGHT, 1080)\n",
    "\n",
    "# Create webcam display in notebook\n",
    "ret_val, img = cam.read()\n",
    "img = cv2.cvtColor(img, cv2.COLOR_BGR2RGB)\n",
    "image_size = img.shape[:2]\n",
    "nb_display = notebook_display_init(img)\n",
    "\n",
    "# For the tensor sizes, we can get it now because it is constant\n",
    "# Don't waste CPU time in the while-loop.\n",
    "input_len = n2cube.dpuGetInputTensorSize(task, CONV_INPUT_NODE)\n",
    "conv_sbbox_size = n2cube.dpuGetOutputTensorSize(task, CONV_OUTPUT_NODE1)\n",
    "conv_mbbox_size = n2cube.dpuGetOutputTensorSize(task, CONV_OUTPUT_NODE2)\n",
    "conv_lbbox_size = n2cube.dpuGetOutputTensorSize(task, CONV_OUTPUT_NODE3)\n",
    "\n",
    "store_out = widgets.Output()\n",
    "with store_out:\n",
    "    %store class_names\n",
    "    %store image_size\n",
    "    store_out.clear_output()\n",
    "\n",
    "# Webcam activity\n",
    "while True:\n",
    "    try:\n",
    "        start_time = time.time()\n",
    "\n",
    "        # My webcam was in BGR mode, so I had to convert it\n",
    "        ret_val, img = cam.read()\n",
    "        img = cv2.cvtColor(img, cv2.COLOR_BGR2RGB)\n",
    "        # img = cv2.flip(img, 1)\n",
    "        img = cv2.blur(img,(5,5))  \n",
    "        image_size = img.shape[:2]\n",
    "        image_data = np.array(pre_process(img, (416, 416)), dtype=np.float32)\n",
    "        \n",
    "        #Now we execute the DPU task to classify an input picture.\n",
    "        #input_len = n2cube.dpuGetInputTensorSize(task, CONV_INPUT_NODE)\n",
    "        n2cube.dpuSetInputTensorInHWCFP32(\n",
    "            task, CONV_INPUT_NODE, image_data, input_len)\n",
    "\n",
    "        n2cube.dpuRunTask(task)\n",
    "\n",
    "        #conv_sbbox_size = n2cube.dpuGetOutputTensorSize(task, CONV_OUTPUT_NODE1)\n",
    "        conv_out1 = n2cube.dpuGetOutputTensorInHWCFP32(task, CONV_OUTPUT_NODE1, \n",
    "                                                       conv_sbbox_size)\n",
    "        conv_out1 = np.reshape(conv_out1, (1, 13, 13, 75))\n",
    "\n",
    "        #conv_mbbox_size = n2cube.dpuGetOutputTensorSize(task, CONV_OUTPUT_NODE2)\n",
    "        conv_out2 = n2cube.dpuGetOutputTensorInHWCFP32(task, CONV_OUTPUT_NODE2, \n",
    "                                                       conv_mbbox_size)\n",
    "        conv_out2 = np.reshape(conv_out2, (1, 26, 26, 75))\n",
    "\n",
    "        #conv_lbbox_size = n2cube.dpuGetOutputTensorSize(task, CONV_OUTPUT_NODE3)\n",
    "        conv_out3 = n2cube.dpuGetOutputTensorInHWCFP32(task, CONV_OUTPUT_NODE3, \n",
    "                                                       conv_lbbox_size)\n",
    "        conv_out3 = np.reshape(conv_out3, (1, 52, 52, 75))\n",
    "\n",
    "        yolo_outputs = [conv_out1, conv_out2, conv_out3]\n",
    "\n",
    "\n",
    "        # We can call the evaluate() function defined previously now. Depending on how many objects can be identified in the picture, the function returns a\n",
    "        # list of bounding box coordinates, a list of probability scores, and a list of class indexes.\n",
    "        boxes, scores, classes = evaluate(yolo_outputs, image_size, class_names, anchors)\n",
    "        \n",
    "        # Store into IPython database, so that it can be retrieved from another notebook.\n",
    "        store_out = widgets.Output()\n",
    "        with store_out:\n",
    "            %store boxes\n",
    "            %store classes\n",
    "            store_out.clear_output()\n",
    "\n",
    "        # Once we have all the bounding boxes, classes, and scores, we can feed them to the\n",
    "        # draw_boxes() function to draw the bounding boxes over each recognized object.\n",
    "        _ = draw_boxes(img, boxes, scores, classes)\n",
    "\n",
    "        elapsed_time = time.time() - start_time\n",
    "        fps = 1 / elapsed_time;\n",
    "\n",
    "        cv2.putText(img, f\"FPS: {fps:.2f}\", (8, 24), cv2.FONT_HERSHEY_SIMPLEX, \n",
    "                    0.5, (255,255,255), 1, cv2.LINE_AA)\n",
    "        notebook_display_update(img, display_id=nb_display)\n",
    "\n",
    "    except KeyboardInterrupt:\n",
    "        cam.release()\n",
    "        cv2.destroyAllWindows()\n",
    "        n2cube.dpuDestroyTask(task)\n",
    "        n2cube.dpuDestroyKernel(kernel)\n",
    "        print(\"Exited gracefully.\")"
   ]
  },
  {
   "cell_type": "markdown",
   "metadata": {},
   "source": [
    "## Cleanup\n",
    "\n",
    "Remember to clean up when you are done. This function closes the camera, OpenCV and N2Cube instances."
   ]
  },
  {
   "cell_type": "code",
   "execution_count": null,
   "metadata": {
    "scrolled": true
   },
   "outputs": [],
   "source": [
    "cam.release()\n",
    "cv2.destroyAllWindows()\n",
    "n2cube.dpuDestroyTask(task)\n",
    "n2cube.dpuDestroyKernel(kernel)"
   ]
  },
  {
   "cell_type": "markdown",
   "metadata": {
    "scrolled": false
   },
   "source": [
    "The End"
   ]
  }
 ],
 "metadata": {
  "kernelspec": {
   "display_name": "Python 3",
   "language": "python",
   "name": "python3"
  },
  "language_info": {
   "codemirror_mode": {
    "name": "ipython",
    "version": 3
   },
   "file_extension": ".py",
   "mimetype": "text/x-python",
   "name": "python",
   "nbconvert_exporter": "python",
   "pygments_lexer": "ipython3",
   "version": "3.6.5"
  }
 },
 "nbformat": 4,
 "nbformat_minor": 2
}

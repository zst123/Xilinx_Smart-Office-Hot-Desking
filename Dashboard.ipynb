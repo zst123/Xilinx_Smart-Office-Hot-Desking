{
 "cells": [
  {
   "cell_type": "markdown",
   "metadata": {},
   "source": [
    "## Display webcam within notebook\n",
    "I wrote these helper functions to display the webcam feed from OpenCV directly within the Jupyter notebook. Some code has been adapted from [here](https://github.com/NicksonYap/Jupyter-Webcam).\n",
    "\n",
    "The first function `notebook_display_init` will display a new image in the output of the cell. It will return an ID which is passed to `notebook_display_update` to update that image with a new one subsequently."
   ]
  },
  {
   "cell_type": "code",
   "execution_count": 1,
   "metadata": {},
   "outputs": [],
   "source": [
    "from io import BytesIO\n",
    "import IPython.display\n",
    "import PIL\n",
    "import PIL.Image\n",
    "\n",
    "# Use 'jpeg' instead of 'png' (~5 times faster)\n",
    "\n",
    "def notebook_display_init(a, fmt='jpeg', _id=True):\n",
    "    f = BytesIO()\n",
    "    PIL.Image.fromarray(a).save(f, fmt)\n",
    "    obj = IPython.display.Image(data=f.getvalue())\n",
    "    return IPython.display.display(obj, display_id=_id)\n",
    "\n",
    "def notebook_display_update(a, fmt='jpeg', display_id=None):\n",
    "    f = BytesIO()\n",
    "    PIL.Image.fromarray(a).save(f, fmt)\n",
    "    obj = IPython.display.Image(data=f.getvalue())\n",
    "    if display_id:\n",
    "        display_id.update(obj)\n",
    "    else:\n",
    "        IPython.display.clear_output(wait=True)\n",
    "        return IPython.display.display(obj, display_id=True)\n"
   ]
  },
  {
   "cell_type": "markdown",
   "metadata": {},
   "source": [
    "Disable scrolling in IPython output for the whole image to show up nicely"
   ]
  },
  {
   "cell_type": "code",
   "execution_count": 2,
   "metadata": {
    "scrolled": true
   },
   "outputs": [
    {
     "data": {
      "application/javascript": [
       "IPython.OutputArea.prototype._should_scroll = function(lines) {\n",
       "    return false;\n",
       "}"
      ],
      "text/plain": [
       "<IPython.core.display.Javascript object>"
      ]
     },
     "metadata": {},
     "output_type": "display_data"
    }
   ],
   "source": [
    "%%javascript\n",
    "IPython.OutputArea.prototype._should_scroll = function(lines) {\n",
    "    return false;\n",
    "}"
   ]
  },
  {
   "cell_type": "markdown",
   "metadata": {},
   "source": [
    "## Application Dashboard\n",
    "This cell of code will retrieve the detected people and display a dashboard of the seat location and the number of vacancies.\n",
    "\n",
    "Ensure that the other notebook for the main webcam loop is running simultaneously."
   ]
  },
  {
   "cell_type": "code",
   "execution_count": 3,
   "metadata": {
    "scrolled": false
   },
   "outputs": [
    {
     "data": {
      "application/vnd.jupyter.widget-view+json": {
       "model_id": "4377289009a14e599a8bd5babafe1068",
       "version_major": 2,
       "version_minor": 0
      },
      "text/plain": [
       "IntProgress(value=0, bar_style='info', description='Vacant Seats', layout=Layout(height='100px', width='100%')…"
      ]
     },
     "metadata": {},
     "output_type": "display_data"
    },
    {
     "data": {
      "image/jpeg": "[encoded data removed]",
      "text/plain": [
       "<IPython.core.display.Image object>"
      ]
     },
     "metadata": {},
     "output_type": "display_data"
    },
    {
     "name": "stdout",
     "output_type": "stream",
     "text": [
      "\n"
     ]
    },
    {
     "ename": "KeyboardInterrupt",
     "evalue": "",
     "output_type": "error",
     "traceback": [
      "\u001b[0;31m---------------------------------------------------------------------------\u001b[0m",
      "\u001b[0;31mKeyboardInterrupt\u001b[0m                         Traceback (most recent call last)",
      "\u001b[0;32m<ipython-input-3-f0d6632a1300>\u001b[0m in \u001b[0;36m<module>\u001b[0;34m()\u001b[0m\n"
     ]
    }
   ],
   "source": [
    "import time\n",
    "import numpy as np\n",
    "import cv2\n",
    "import ipywidgets as widgets\n",
    "from ipywidgets import IntProgress, Layout\n",
    "\n",
    "# Setup progressbar\n",
    "progressbar = IntProgress(min=0, max=100,\n",
    "                          description=\"Vacant Seats\",\n",
    "                         layout=Layout(width='100%', height='100px'))\n",
    "progressbar.bar_style = 'info'\n",
    "IPython.display.display(progressbar)\n",
    "    \n",
    "test_image = 255 * np.ones(shape=[1, 1, 3], dtype=np.uint8)\n",
    "nb_display = notebook_display_init(test_image)\n",
    "statistics_out = widgets.Output()\n",
    "\n",
    "points = [\n",
    "    (250, 100), # left seat\n",
    "    (480, 85), # top seat\n",
    "    (582, 300), # right seat\n",
    "]\n",
    "taken_points = [0] * len(points)\n",
    "\n",
    "UPDATE_RATE = 0.25  # in seconds\n",
    "HOLD_TIME = 3 # seconds to hold availability\n",
    "while True:\n",
    "    time.sleep(0.25)\n",
    "    \n",
    "    # Retrieve the YoloV3 outputs from the IPython database\n",
    "    %store -r boxes\n",
    "    %store -r classes\n",
    "    %store -r class_names\n",
    "    %store -r image_size\n",
    "    \n",
    "    # Create empty white image\n",
    "    img_x, img_y = image_size\n",
    "    image = 255 * np.ones(shape=[img_x, img_y, 3], dtype=np.uint8)\n",
    "    \n",
    "    # Process each box and determine availability of points\n",
    "    for i, bbox in enumerate(boxes):\n",
    "        try:\n",
    "            class_index = classes[i]\n",
    "            class_name = class_names[class_index]\n",
    "            if class_name not in ['person']:\n",
    "                continue\n",
    "\n",
    "            # [top, left, bottom, right] = bbox\n",
    "            y1, x1, y2, x2 = bbox\n",
    "\n",
    "            # check availability\n",
    "            for j, p in enumerate(points):\n",
    "                x, y = p\n",
    "                taken = (x1 < x < x2) and (y1 < y < y2)\n",
    "                if taken:\n",
    "                    taken_points[j] = int(HOLD_TIME / 0.25)\n",
    "\n",
    "            # Draw rectangle\n",
    "            cv2.rectangle(image, (x1, y1), (x2, y2), (255, 0, 0), 2)\n",
    "        except:\n",
    "            break\n",
    "        \n",
    "    for i, taken_point in enumerate(taken_points):\n",
    "        # Draw points and deduct taken_point\n",
    "        center_point = points[i]\n",
    "        if taken_point > 0:\n",
    "            circle_color = (255, 0, 0)\n",
    "            taken_points[i] -= 1\n",
    "        else:\n",
    "            circle_color = (0, 255, 0)\n",
    "        \n",
    "        cv2.circle(image, center_point, 1, circle_color, thickness=12, lineType=8, shift=0)\n",
    "\n",
    "    # display image\n",
    "    notebook_display_update(image, display_id=nb_display)\n",
    "    \n",
    "    # update progressbar\n",
    "    progressbar.value = 100 - int(sum(map(lambda p: p > 0, taken_points)) / len(points) * 100)\n",
    "    \n",
    "    with statistics_out:\n",
    "        statistics_out.clear_output()\n",
    "        print(image_size)\n",
    "       "
   ]
  }
 ],
 "metadata": {
  "kernelspec": {
   "display_name": "Python 3",
   "language": "python",
   "name": "python3"
  },
  "language_info": {
   "codemirror_mode": {
    "name": "ipython",
    "version": 3
   },
   "file_extension": ".py",
   "mimetype": "text/x-python",
   "name": "python",
   "nbconvert_exporter": "python",
   "pygments_lexer": "ipython3",
   "version": "3.7.3"
  }
 },
 "nbformat": 4,
 "nbformat_minor": 2
}
